{
 "cells": [
  {
   "cell_type": "markdown",
   "metadata": {},
   "source": [
    "## subtask 2.d) of homework 3"
   ]
  },
  {
   "cell_type": "code",
   "execution_count": 213,
   "metadata": {},
   "outputs": [],
   "source": [
    "import numpy as np\n",
    "import scipy.linalg\n",
    "\n",
    "def solve_two_player_lqr(A, B1, B2, Q1, R1, Q2, R2, N,\n",
    "                         S1, S2):\n",
    "    \"\"\"\n",
    "    Solves a two-player Linear Quadratic Regulator (LQR) problem.\n",
    "\n",
    "    Args:\n",
    "        A (ndarray): System dynamics matrix.\n",
    "        B1 (ndarray): Control input matrix for player 1.\n",
    "        B2 (ndarray): Control input matrix for player 2.\n",
    "        Q1 (ndarray): State cost matrix for player 1.\n",
    "        R1 (ndarray): Control cost matrix for player 1.\n",
    "        Q2 (ndarray): State cost matrix for player 2.\n",
    "        R2 (ndarray): Control cost matrix for player 2.\n",
    "        N (int): Time horizon for the finite-horizon LQR.\n",
    "\n",
    "    Returns:\n",
    "        H1 (list): state feedback for player 1 over the horizon.\n",
    "        H2 (list): state feedback for player 2 over the horizon.\n",
    "        P1 (list): Cost-to-go matrices for player 1 over the horizon.\n",
    "        P2 (list): Cost-to-go matrices for player 2 over the horizon.\n",
    "    \"\"\"\n",
    "    # Dimensions\n",
    "    n = A.shape[0]  # State dimension\n",
    "    m1 = B1.shape[1]  # Player 1 control dimension\n",
    "    m2 = B2.shape[1]  # Player 2 control dimension\n",
    "\n",
    "    # Initialize cost-to-go matrices (P matrices) for each player\n",
    "    P1 = [None] * (N + 1)\n",
    "    P2 = [None] * (N + 1)\n",
    "\n",
    "    # Terminal conditions\n",
    "    P1[N] = S1\n",
    "    P2[N] = S2\n",
    "\n",
    "    # value of game\n",
    "    V = 0\n",
    "\n",
    "    # Initialize action matrice U, V for all stages\n",
    "    UV = np.zeros((N, m1+m2))\n",
    "\n",
    "    # initialize feedback matrices H1, H2 for all staes\n",
    "    H1 = np.zeros((N, m1, n))\n",
    "    H2 = np.zeros((N, m2, n))\n",
    "\n",
    "    # Backward recursion\n",
    "    for t in range(N - 1, -1, -1):\n",
    "        # compute inverse only once\n",
    "        R1P1inv = np.linalg.inv(R1 + B1.T @ P1[t + 1] @ B1)\n",
    "        R2P2inv = np.linalg.inv(R2 + B2.T @ P2[t + 1] @ B2)\n",
    "\n",
    "        # build Psi matrix\n",
    "        PSI = np.vstack((-R1P1inv @ B1.T @ P1[t + 1] @ A,\n",
    "                        -R2P2inv @ B2.T @ P2[t + 1] @ A))\n",
    "        \n",
    "        # build PHI matrix (regressor)\n",
    "        PHI = np.vstack((\n",
    "            np.hstack((np.eye(m1), \n",
    "                    R1P1inv @ B1.T @ P1[t + 1] @ B2)),       \n",
    "            np.hstack((R2P2inv @ B2.T @ P2[t + 1] @ B1, \n",
    "                    np.eye(m2)))\n",
    "                    ))\n",
    "\n",
    "        # compute H1, H2. note: uk = H1 @ xk, vk = H2 @ xk\n",
    "        H = np.linalg.inv(PHI) @ PSI\n",
    "        H1[t, :, :], H2[t, :, :] = H[:m1], H[m1:]\n",
    "\n",
    "        # compute P1, P2\n",
    "        P1[t] = Q1 + H1[t].T @ R1 @ H1[t] + (A + B1 @ H1[t] + B2 @ H2[t]).T @ P1[t + 1] @ (A + B1 @ H1[t] + B2 @ H2[t])\n",
    "        P2[t] = Q2 + H2[t].T @ R2 @ H2[t] + (A + B1 @ H1[t] + B2 @ H2[t]).T @ P2[t + 1] @ (A + B1 @ H1[t] + B2 @ H2[t])\n",
    "\n",
    "    return H1, H2, P1, P2\n"
   ]
  },
  {
   "cell_type": "code",
   "execution_count": 214,
   "metadata": {},
   "outputs": [
    {
     "name": "stdout",
     "output_type": "stream",
     "text": [
      "Step 0: K1 = [[-1.56744419  1.21202846]], K2 = [[ 1.21202846 -1.56744419]]\n",
      "Step 1: K1 = [[-1.5580337   1.20261797]], K2 = [[ 1.20261797 -1.5580337 ]]\n",
      "Step 2: K1 = [[-1.54343438  1.18801865]], K2 = [[ 1.18801865 -1.54343438]]\n",
      "Step 3: K1 = [[-1.52078518  1.16536945]], K2 = [[ 1.16536945 -1.52078518]]\n",
      "Step 4: K1 = [[-1.48564749  1.13023177]], K2 = [[ 1.13023177 -1.48564749]]\n",
      "Step 5: K1 = [[-1.43113531  1.07571959]], K2 = [[ 1.07571959 -1.43113531]]\n",
      "Step 6: K1 = [[-1.34656502  0.99114963]], K2 = [[ 0.99114963 -1.34656502]]\n",
      "Step 7: K1 = [[-1.21533528  0.85993354]], K2 = [[ 0.85993354 -1.21533528]]\n",
      "Step 8: K1 = [[-1.01075269  0.65591398]], K2 = [[ 0.65591398 -1.01075269]]\n",
      "Step 9: K1 = [[-0.66666667  0.33333333]], K2 = [[ 0.33333333 -0.66666667]]\n"
     ]
    }
   ],
   "source": [
    "# if __name__ == \"__main__\":\n",
    "# Define problem parameters\n",
    "A = np.array([[1.0, 0], [0.0, 1.0]])\n",
    "B1 = np.array([[1.0], [1.0]])\n",
    "B2 = np.array([[1.0], [1.0]])\n",
    "Q1 = np.array([[1.0, 0], [0.0, 0]])\n",
    "R1 = np.eye(1)\n",
    "Q2 = np.array([[0, 0], [0.0, 1.0]])\n",
    "R2 = np.eye(1)\n",
    "# terminal conditions\n",
    "S1, S2 = Q1, Q2 \n",
    "# number stages\n",
    "N = 10\n",
    "\n",
    "# Solve the two-player LQR problem\n",
    "H1, H2, P1, P2 = solve_two_player_lqr(A, B1, B2, Q1, R1, Q2, R2, N,\n",
    "                                        S1, S2)\n",
    "\n",
    "    # Print the feedback gains\n",
    "for t in range(N):\n",
    "    print(f\"Step {t}: K1 = {H1[t]}, K2 = {H2[t]}\")"
   ]
  },
  {
   "cell_type": "code",
   "execution_count": 215,
   "metadata": {},
   "outputs": [],
   "source": [
    "def solve_one_player_lqr(A, B, Q, R, N):\n",
    "    \"\"\"\n",
    "    single-player lqr\n",
    "    \"\"\"\n",
    "    # Dimensions\n",
    "    n = A.shape[0]  # State dimension\n",
    "    m = B.shape[1]  # Control dimension\n",
    "\n",
    "    # Initialize cost-to-go matrices (P matrices)\n",
    "    P = [None] * (N + 1)\n",
    "\n",
    "    # Terminal condition\n",
    "    P[N] = Q\n",
    "\n",
    "    # Initialize gain matrices (K matrices)\n",
    "    K = np.zeros((N, n, m))\n",
    "\n",
    "    # Backward recursion to compute P and K\n",
    "    for t in range(N - 1, -1, -1):\n",
    "        # Intermediate matrices\n",
    "        S = R + B.T @ P[t + 1] @ B\n",
    "        Sinv = np.linalg.inv(S)\n",
    "        F = B.T @ P[t + 1] @ A\n",
    "\n",
    "        # Feedback gain matrix\n",
    "        K[t] = -Sinv @ F\n",
    "\n",
    "        # Update cost-to-go matrix\n",
    "        # P[t] = Q + A.T @ P[t+1] @ A - A.T @ P[t+1] @ B @ K[t]\n",
    "        # P[t] = Q + A.T @ (P[t + 1] - P[t+1] @ B @ S @ B @ P[t+1]) @ A  #K[t].T @ S @ K[t] + (A + B @ K[t]).T @ P[t + 1] @ (A + B @ K[t])\n",
    "        P[t] = Q + A.T @ P[t + 1] @ A - A.T @ P[t + 1] @ B @ Sinv @ B.T @ P[t + 1] @ A\n",
    "\n",
    "    return K, P"
   ]
  },
  {
   "cell_type": "code",
   "execution_count": 216,
   "metadata": {},
   "outputs": [],
   "source": [
    "# Combine dynamics and costs for the single-player formulation\n",
    "B = np.hstack((B1, B2))  # Combine control inputs\n",
    "Q = Q1 + Q2  # Combine state costs\n",
    "R = scipy.linalg.block_diag(R1, R2)  # Combine control costs\n",
    "\n",
    "# Solve the single-player LQR problem\n",
    "K, P = solve_one_player_lqr(A, B, Q, R, N)"
   ]
  },
  {
   "cell_type": "code",
   "execution_count": 217,
   "metadata": {},
   "outputs": [],
   "source": [
    "def sim_2p_system(x0, A, B1, B2, H1, H2, N):\n",
    "    n = A.shape[0]  # State dimension\n",
    "    m1 = B1.shape[1]  # Player 1 control dimension\n",
    "    m2 = B2.shape[1]  # Player 2 control dimension\n",
    "\n",
    "    # Initialize state and control trajectories\n",
    "    x = np.zeros((N + 1, n))\n",
    "    u1 = np.zeros((N, m1))\n",
    "    u2 = np.zeros((N, m2))\n",
    "\n",
    "    # Initialize state\n",
    "    x[0, :] = x0\n",
    "\n",
    "    # Simulate the system\n",
    "    for t in range(N):\n",
    "        # Compute control inputs\n",
    "        u1[t, :] = H1[t] @ x[t, :]\n",
    "        u2[t, :] = H2[t] @ x[t, :]\n",
    "\n",
    "        # Update state\n",
    "        x[t + 1, :] = A @ x[t, :] + B1 @ u1[t, :] + B2 @ u2[t, :]\n",
    "\n",
    "    return x, u1, u2"
   ]
  },
  {
   "cell_type": "code",
   "execution_count": 218,
   "metadata": {},
   "outputs": [],
   "source": [
    "def sim_system(x0, A, B, K):\n",
    "    \"\"\"\n",
    "    Simulates the system dynamics with a feedback controller.\n",
    "\n",
    "    Args:\n",
    "        x0 (ndarray): Initial state.\n",
    "        A (ndarray): System dynamics matrix.\n",
    "        B (ndarray): Control input matrix.\n",
    "        K (list): List of state feedback matrices.\n",
    "\n",
    "    Returns:\n",
    "        x (ndarray): State trajectory.\n",
    "        u (ndarray): Control input trajectory.\n",
    "    \"\"\"\n",
    "    N = K.shape[0]  # Time horizon  \n",
    "    n = A.shape[0]  # State dimension\n",
    "    m = B.shape[1]  # Control dimension\n",
    "\n",
    "    # Initialize state and control trajectories\n",
    "    x = np.zeros((N + 1, n))\n",
    "    u = np.zeros((N, m))\n",
    "\n",
    "    # Initialize the state\n",
    "    x[0, :] = x0\n",
    "\n",
    "    # Simulate the system\n",
    "    for t in range(N-1):\n",
    "        u[t, :] = K[t] @ x[t, :]\n",
    "        x[t + 1, :] = A @ x[t, :] + B @ u[t, :]\n",
    "\n",
    "    return x, u"
   ]
  },
  {
   "cell_type": "markdown",
   "metadata": {},
   "source": [
    "## price of anarychy"
   ]
  },
  {
   "cell_type": "code",
   "execution_count": 219,
   "metadata": {},
   "outputs": [],
   "source": [
    "# plot price of anarchy for k=0,...,100\n",
    "x0 = np.array([1/2, 1/2])\n",
    "\n",
    "K = 100\n",
    "\n",
    "PoA = np.zeros(K)\n",
    "PoA[0] = 1\n",
    "Xsp = [None] * K\n",
    "Xsp[0] = x0\n",
    "Xtp = [None] * K \n",
    "Xtp[0] = x0\n",
    "\n",
    "# evolution of the state\n",
    "for k in range(1, K):\n",
    "    # solve lqr's\n",
    "    Ks, Ps = solve_one_player_lqr(A, B, Q, R, k)\n",
    "    H1, H2, P1, P2 = solve_two_player_lqr(A, B1, B2, Q1, R1, Q2, R2, k,\n",
    "                                        S1, S2)\n",
    "    \n",
    "\n",
    "    # simulate systems\n",
    "    x1, u11 = sim_system(x0, A, B, Ks)\n",
    "    x2, u1, u2 = sim_2p_system(x0, A, B1, B2, H1, H2, k)\n",
    "    Xsp[k] = x1\n",
    "    Xtp[k] = x2\n",
    "\n",
    "    # compute cost\n",
    "    cost1 = np.sum([x.T @ Q @ x + u.T @ R @ u for x, u in zip(x1, u11)])\n",
    "    cost2state = np.sum([x.T @ Q @ x for x in x2])\n",
    "    cost2control = np.sum([u1k.T @ R1 @ u1k + u2k.T @ R2 @ u2k for u1k, u2k in zip(u1, u2)])\n",
    "    cost2 = cost2state + cost2control\n",
    "    \n",
    "    PoA[k] = cost2/cost1\n"
   ]
  },
  {
   "cell_type": "code",
   "execution_count": 220,
   "metadata": {},
   "outputs": [
    {
     "data": {
      "text/plain": [
       "[<matplotlib.lines.Line2D at 0x276ee7e6990>]"
      ]
     },
     "execution_count": 220,
     "metadata": {},
     "output_type": "execute_result"
    },
    {
     "data": {
      "image/png": "[encoded data removed]",
      "text/plain": [
       "<Figure size 640x480 with 1 Axes>"
      ]
     },
     "metadata": {},
     "output_type": "display_data"
    }
   ],
   "source": [
    "import matplotlib.pyplot as plt\n",
    "\n",
    "plt.plot(PoA)"
   ]
  }
 ],
 "metadata": {
  "kernelspec": {
   "display_name": "Python 3",
   "language": "python",
   "name": "python3"
  },
  "language_info": {
   "codemirror_mode": {
    "name": "ipython",
    "version": 3
   },
   "file_extension": ".py",
   "mimetype": "text/x-python",
   "name": "python",
   "nbconvert_exporter": "python",
   "pygments_lexer": "ipython3",
   "version": "3.11.8"
  }
 },
 "nbformat": 4,
 "nbformat_minor": 2
}
